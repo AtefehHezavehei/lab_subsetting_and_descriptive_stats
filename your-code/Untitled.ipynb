{
 "cells": [
  {
   "cell_type": "code",
   "execution_count": 2,
   "id": "5f285d60",
   "metadata": {},
   "outputs": [],
   "source": [
    "m=19.444444+ 9.444444+3.333333"
   ]
  },
  {
   "cell_type": "code",
   "execution_count": 3,
   "id": "439f2c03",
   "metadata": {},
   "outputs": [],
   "source": [
    "n=m/3"
   ]
  },
  {
   "cell_type": "code",
   "execution_count": 4,
   "id": "dd8a3da7",
   "metadata": {},
   "outputs": [
    {
     "data": {
      "text/plain": [
       "10.740740333333335"
      ]
     },
     "execution_count": 4,
     "metadata": {},
     "output_type": "execute_result"
    }
   ],
   "source": [
    "n"
   ]
  },
  {
   "cell_type": "code",
   "execution_count": null,
   "id": "1aa04191",
   "metadata": {},
   "outputs": [],
   "source": []
  }
 ],
 "metadata": {
  "kernelspec": {
   "display_name": "Python 3",
   "language": "python",
   "name": "python3"
  },
  "language_info": {
   "codemirror_mode": {
    "name": "ipython",
    "version": 3
   },
   "file_extension": ".py",
   "mimetype": "text/x-python",
   "name": "python",
   "nbconvert_exporter": "python",
   "pygments_lexer": "ipython3",
   "version": "3.9.2"
  }
 },
 "nbformat": 4,
 "nbformat_minor": 5
}
